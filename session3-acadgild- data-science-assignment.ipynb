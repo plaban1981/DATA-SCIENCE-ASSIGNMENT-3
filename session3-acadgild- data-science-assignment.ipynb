{
 "cells": [
  {
   "cell_type": "code",
   "execution_count": 5,
   "metadata": {},
   "outputs": [
    {
     "data": {
      "text/plain": [
       "113"
      ]
     },
     "execution_count": 5,
     "metadata": {},
     "output_type": "execute_result"
    }
   ],
   "source": [
    "#Assignment 1.1 -Write a Python Program to implement your own myreduce() function which works exactly\n",
    "#like Python's built-in function reduce()\n",
    "def reduce_func(list1):\n",
    "    s = 0\n",
    "    for items in list1:\n",
    "        s +=items\n",
    "    return s\n",
    "\n",
    "lst =[47,11,42,13]\n",
    "reduce_func(lst)"
   ]
  },
  {
   "cell_type": "code",
   "execution_count": 6,
   "metadata": {},
   "outputs": [
    {
     "data": {
      "text/plain": [
       "[0, 2, 4, 6, 8, 10, 12, 14, 16, 18]"
      ]
     },
     "execution_count": 6,
     "metadata": {},
     "output_type": "execute_result"
    }
   ],
   "source": [
    "# Assignment 1.2 -Write a Python program to implement your own myfilter() function which works exactly like\n",
    "#Python's built-in function filter()\n",
    "\n",
    "lst =range(20)\n",
    "#First let's make a function\n",
    "def even_check(num):\n",
    "    if num%2 ==0:\n",
    "        return True\n",
    "#Define myfilter function\n",
    "def myfilter(lst):\n",
    "    s = []\n",
    "    for items in lst:\n",
    "        if even_check(items) == True:\n",
    "            s.append(items)\n",
    "    return s\n",
    "myfilter(lst)"
   ]
  },
  {
   "cell_type": "code",
   "execution_count": 9,
   "metadata": {},
   "outputs": [
    {
     "name": "stdout",
     "output_type": "stream",
     "text": [
      "['A', 'C', 'A', 'D', 'G', 'I', 'L', 'D']\n",
      "['x', 'xx', 'xxx', 'xxxx', 'y', 'yy', 'yyy', 'yyyy', 'z', 'zz', 'zzz', 'zzzz']\n",
      "['x', 'y', 'z', 'xx', 'yy', 'zz', 'xxx', 'yyy', 'zzz', 'xxxx', 'yyyy', 'zzzz']\n",
      "[[2], [3], [4], [3], [4], [5], [4], [5], [6]]\n",
      "[[2, 3, 4, 5], [3, 4, 5, 6], [4, 5, 6, 7], [5, 6, 7, 8]]\n",
      "[(1, 1), (2, 1), (3, 1), (1, 2), (2, 2), (3, 2), (1, 3), (2, 3), (3, 3)]\n"
     ]
    }
   ],
   "source": [
    "#assignment 2\n",
    "#Implement List comprehensions to produce the following lists.\n",
    "#Write List comprehensions to produce the following Lists\n",
    "#['A', 'C', 'A', 'D', 'G', 'I', 'L', 'D']\n",
    "str1 = 'ACADGILD'\n",
    "str2 = [x for x in str1]\n",
    "print(str2)\n",
    "\n",
    "#['x', 'xx', 'xxx', 'xxxx', 'y', 'yy', 'yyy', 'yyyy', 'z', 'zz', 'zzz', 'zzzz']\n",
    "str3 = ['x','y','z']\n",
    "str4 =[ x * (i+1) for x in str3 for i in range(len(str3) +1)]\n",
    "print(str4)\n",
    "\n",
    "#['x', 'y', 'z', 'xx', 'yy', 'zz', 'xxx', 'yyy', 'zzz', 'xxxx', 'yyyy', 'zzzz']\n",
    "str5 = [items * (i + 1)for i in range(len(str3)+ 1) for  items in str3 ]\n",
    "print(str5)\n",
    "\n",
    "#[[2], [3], [4], [3], [4], [5], [4], [5], [6]]\n",
    "lst_num = list(range(2,7))\n",
    "#print(lst_num)\n",
    "lstt = []\n",
    "k = 0\n",
    "for n in range(len(lst_num)-2):\n",
    "    j = 0\n",
    "    \n",
    "    k = n\n",
    "    while (j < 3) and (k < 5) :\n",
    "        lstt.append([lst_num[k]])\n",
    "        k +=1\n",
    "        j +=1\n",
    "        \n",
    "print(lstt)\n",
    "\n",
    "#[[2, 3, 4, 5], [3, 4, 5, 6], [4, 5, 6, 7], [5, 6, 7, 8]]\n",
    "#list Comprehension\n",
    "\n",
    "lst_num = list(range(2,9))\n",
    "lst_out = []\n",
    "k = 0\n",
    "m = 4\n",
    "for n in range(len(lst_num)):\n",
    "    j = 0\n",
    "    \n",
    "    \n",
    "    if n < 4 :\n",
    "        lst_out.append(lst_num[k:m]) \n",
    "        k +=1\n",
    "        m +=1\n",
    "print(lst_out)\n",
    "\n",
    "#[(1, 1), (2, 1), (3, 1), (1, 2), (2, 2), (3, 2), (1, 3), (2, 3), (3, 3)]\n",
    "\n",
    "#list comprehension\n",
    "new_lst = list(range(1,4))\n",
    "list_out1 = [(new_lst[j],new_lst[i])for i in range(len(new_lst)) for j in range(0,len(new_lst))]\n",
    "print(list_out1)\n",
    "\n"
   ]
  },
  {
   "cell_type": "code",
   "execution_count": 8,
   "metadata": {},
   "outputs": [
    {
     "name": "stdout",
     "output_type": "stream",
     "text": [
      "The longest word in the list is pomegranate with a count of 11 characters.\n"
     ]
    }
   ],
   "source": [
    "#Assignment 3\n",
    "#Implement a function longestWord() that takes a list of words and returns the longest one.\n",
    "def longestWord(lst):\n",
    "    dict_word = {}\n",
    "    for items in lst_str:\n",
    "        count = len(items)\n",
    "        dict_word[items] = count\n",
    "    values = [v for v in dict_word.values()]\n",
    "    sorted_val = sorted(values,reverse=True)\n",
    "    for k,v in dict_word.items():\n",
    "        if v == sorted_val[0]:\n",
    "            print(\"The longest word in the list is {} with a count of {} characters.\".format(k,v))\n",
    "#list of words        \n",
    "lst_str = ['pineapple','apple','mango','banana','jackfruit','pomegranate']\n",
    "#function call\n",
    "longestWord(lst_str)           "
   ]
  }
 ],
 "metadata": {
  "kernelspec": {
   "display_name": "Python 3",
   "language": "python",
   "name": "python3"
  },
  "language_info": {
   "codemirror_mode": {
    "name": "ipython",
    "version": 3
   },
   "file_extension": ".py",
   "mimetype": "text/x-python",
   "name": "python",
   "nbconvert_exporter": "python",
   "pygments_lexer": "ipython3",
   "version": "3.6.3"
  }
 },
 "nbformat": 4,
 "nbformat_minor": 2
}
